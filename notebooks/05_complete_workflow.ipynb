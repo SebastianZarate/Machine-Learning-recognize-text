{
 "cells": [
  {
   "cell_type": "markdown",
   "id": "cb46cfc3",
   "metadata": {},
   "source": [
    "# 🎬 Análisis de Sentimientos en Reseñas de Películas IMDB\n",
    "# Workflow Completo de Machine Learning\n",
    "\n",
    "---\n",
    "\n",
    "## 📋 Índice\n",
    "\n",
    "1. [Introducción](#1-introducción)\n",
    "2. [Carga y Exploración de Datos](#2-carga-y-exploración-de-datos)\n",
    "3. [Preprocesamiento de Texto](#3-preprocesamiento-de-texto)\n",
    "4. [Representación de Texto (Vectorización)](#4-representación-de-texto)\n",
    "5. [División de Datos](#5-división-de-datos)\n",
    "6. [Entrenamiento de Modelos](#6-entrenamiento-de-modelos)\n",
    "7. [Evaluación de Modelos](#7-evaluación-de-modelos)\n",
    "8. [Visualizaciones](#8-visualizaciones)\n",
    "9. [Análisis de Resultados](#9-análisis-de-resultados)\n",
    "10. [Conclusiones y Mejoras](#10-conclusiones-y-mejoras)\n",
    "\n",
    "---"
   ]
  },
  {
   "cell_type": "markdown",
   "id": "920e1da5",
   "metadata": {},
   "source": [
    "## 1. Introducción\n",
    "\n",
    "### 🎯 Objetivo del Proyecto\n",
    "\n",
    "Desarrollar un sistema de **Análisis de Sentimientos** que clasifique automáticamente reseñas de películas como **positivas** o **negativas** usando técnicas de Machine Learning y Procesamiento de Lenguaje Natural (NLP).\n",
    "\n",
    "### 📊 Dataset: IMDB Movie Reviews\n",
    "\n",
    "- **Fuente**: Internet Movie Database (IMDB)\n",
    "- **Tamaño**: 50,000 reseñas de películas\n",
    "- **Balance**: 50% positivas, 50% negativas\n",
    "- **Tipo**: Texto libre en inglés\n",
    "- **Tarea**: Clasificación binaria (sentiment: positive/negative)\n",
    "\n",
    "### 🔧 Tecnologías Utilizadas\n",
    "\n",
    "- **Python 3.x**\n",
    "- **Pandas & NumPy**: Manipulación de datos\n",
    "- **NLTK**: Procesamiento de lenguaje natural\n",
    "- **Scikit-learn**: Modelos de Machine Learning\n",
    "- **Matplotlib & Seaborn**: Visualización\n",
    "- **WordCloud**: Visualización de palabras\n",
    "\n",
    "### 🤖 Modelos a Comparar\n",
    "\n",
    "1. **Naive Bayes** (MultinomialNB)\n",
    "2. **Logistic Regression**\n",
    "3. **Random Forest**"
   ]
  },
  {
   "cell_type": "code",
   "execution_count": 2,
   "id": "10f5adb5",
   "metadata": {},
   "outputs": [
    {
     "ename": "ModuleNotFoundError",
     "evalue": "No module named 'config'",
     "output_type": "error",
     "traceback": [
      "\u001b[31m--------------------------------------------------------------------------\u001b[39m",
      "\u001b[31mModuleNotFoundError\u001b[39m                      Traceback (most recent call last)",
      "\u001b[36mCell\u001b[39m\u001b[36m \u001b[39m\u001b[32mIn[2]\u001b[39m\u001b[32m, line 19\u001b[39m\n\u001b[32m     15\u001b[39m \u001b[38;5;66;03m# Módulos personalizados\u001b[39;00m\n\u001b[32m     16\u001b[39m \u001b[38;5;28;01mfrom\u001b[39;00m\u001b[38;5;250m \u001b[39m\u001b[34;01msrc\u001b[39;00m\u001b[34;01m.\u001b[39;00m\u001b[34;01mpreprocessing\u001b[39;00m\u001b[38;5;250m \u001b[39m\u001b[38;5;28;01mimport\u001b[39;00m (\n\u001b[32m     17\u001b[39m     load_imdb_dataset, preprocess_dataframe\n\u001b[32m     18\u001b[39m )\n\u001b[32m---> \u001b[39m\u001b[32m19\u001b[39m \u001b[38;5;28;01mfrom\u001b[39;00m\u001b[38;5;250m \u001b[39m\u001b[34;01msrc\u001b[39;00m\u001b[34;01m.\u001b[39;00m\u001b[34;01mtrain_models\u001b[39;00m\u001b[38;5;250m \u001b[39m\u001b[38;5;28;01mimport\u001b[39;00m (\n\u001b[32m     20\u001b[39m     split_data, create_vectorizers, vectorize_data,\n\u001b[32m     21\u001b[39m     train_all_models, save_models\n\u001b[32m     22\u001b[39m )\n\u001b[32m     23\u001b[39m \u001b[38;5;28;01mfrom\u001b[39;00m\u001b[38;5;250m \u001b[39m\u001b[34;01msrc\u001b[39;00m\u001b[34;01m.\u001b[39;00m\u001b[34;01mvisualizations\u001b[39;00m\u001b[38;5;250m \u001b[39m\u001b[38;5;28;01mimport\u001b[39;00m (\n\u001b[32m     24\u001b[39m     plot_confusion_matrices, plot_roc_curves,\n\u001b[32m     25\u001b[39m     plot_metrics_comparison, generate_wordclouds,\n\u001b[32m     26\u001b[39m     plot_feature_importance\n\u001b[32m     27\u001b[39m )\n\u001b[32m     28\u001b[39m \u001b[38;5;28;01mfrom\u001b[39;00m\u001b[38;5;250m \u001b[39m\u001b[34;01msklearn\u001b[39;00m\u001b[34;01m.\u001b[39;00m\u001b[34;01mmetrics\u001b[39;00m\u001b[38;5;250m \u001b[39m\u001b[38;5;28;01mimport\u001b[39;00m (\n\u001b[32m     29\u001b[39m     accuracy_score, precision_score, recall_score, f1_score,\n\u001b[32m     30\u001b[39m     confusion_matrix, roc_curve, auc\n\u001b[32m     31\u001b[39m )\n",
      "\u001b[36mFile \u001b[39m\u001b[32m~\\OneDrive\\Documentos\\Asignaturas Uptc\\Inteligencia Computacional\\Machine-Learning-recognize-text\\notebooks\\..\\src\\train_models.py:16\u001b[39m\n\u001b[32m     13\u001b[39m \u001b[38;5;28;01mfrom\u001b[39;00m\u001b[38;5;250m \u001b[39m\u001b[34;01msklearn\u001b[39;00m\u001b[34;01m.\u001b[39;00m\u001b[34;01mensemble\u001b[39;00m\u001b[38;5;250m \u001b[39m\u001b[38;5;28;01mimport\u001b[39;00m RandomForestClassifier\n\u001b[32m     15\u001b[39m \u001b[38;5;66;03m# Importar configuración\u001b[39;00m\n\u001b[32m---> \u001b[39m\u001b[32m16\u001b[39m \u001b[38;5;28;01mfrom\u001b[39;00m\u001b[38;5;250m \u001b[39m\u001b[34;01mconfig\u001b[39;00m\u001b[38;5;250m \u001b[39m\u001b[38;5;28;01mimport\u001b[39;00m (\n\u001b[32m     17\u001b[39m     TFIDF_CONFIG, MODEL_CONFIG, TRAIN_TEST_SPLIT, \n\u001b[32m     18\u001b[39m     MODEL_FILES, MODELS_DIR\n\u001b[32m     19\u001b[39m )\n\u001b[32m     21\u001b[39m \u001b[38;5;66;03m# Configurar logging\u001b[39;00m\n\u001b[32m     22\u001b[39m logger = logging.getLogger(\u001b[34m__name__\u001b[39m)\n",
      "\u001b[31mModuleNotFoundError\u001b[39m: No module named 'config'"
     ]
    }
   ],
   "source": [
    "# Configuración inicial e importaciones\n",
    "import warnings\n",
    "warnings.filterwarnings('ignore')\n",
    "\n",
    "import pandas as pd\n",
    "import numpy as np\n",
    "import matplotlib.pyplot as plt\n",
    "import seaborn as sns\n",
    "import time\n",
    "import joblib\n",
    "from collections import Counter\n",
    "import sys\n",
    "sys.path.append('..')\n",
    "\n",
    "# Módulos personalizados\n",
    "from src.preprocessing import (\n",
    "    load_imdb_dataset, preprocess_dataframe\n",
    ")\n",
    "from src.train_models import (\n",
    "    split_data, create_vectorizers, vectorize_data,\n",
    "    train_all_models, save_models\n",
    ")\n",
    "from src.visualizations import (\n",
    "    plot_confusion_matrices, plot_roc_curves,\n",
    "    plot_metrics_comparison, generate_wordclouds,\n",
    "    plot_feature_importance\n",
    ")\n",
    "from sklearn.metrics import (\n",
    "    accuracy_score, precision_score, recall_score, f1_score,\n",
    "    confusion_matrix, roc_curve, auc\n",
    ")\n",
    "\n",
    "# Configuración de visualización\n",
    "plt.style.use('ggplot')\n",
    "sns.set_palette('husl')\n",
    "%matplotlib inline\n",
    "\n",
    "print('✅ Entorno configurado correctamente')\n",
    "print(f'📦 Pandas version: {pd.__version__}')\n",
    "print(f'📦 NumPy version: {np.__version__}')"
   ]
  },
  {
   "cell_type": "markdown",
   "id": "a100befb",
   "metadata": {},
   "source": [
    "---\n",
    "## 2. Carga y Exploración de Datos\n",
    "\n",
    "### 📂 Carga del Dataset"
   ]
  },
  {
   "cell_type": "code",
   "execution_count": 3,
   "id": "4eca7945",
   "metadata": {},
   "outputs": [
    {
     "name": "stdout",
     "output_type": "stream",
     "text": [
      "📂 Cargando dataset desde: ../IMDB Dataset.csv\n",
      "✅ Dataset cargado: 50000 reseñas\n",
      "\n",
      "📊 INFORMACIÓN DEL DATASET\n",
      "======================================================================\n",
      "Total de reseñas: 50,000\n",
      "Columnas: ['review', 'sentiment']\n",
      "\n",
      "Primeras 3 reseñas:\n"
     ]
    },
    {
     "data": {
      "text/html": [
       "<div>\n",
       "<style scoped>\n",
       "    .dataframe tbody tr th:only-of-type {\n",
       "        vertical-align: middle;\n",
       "    }\n",
       "\n",
       "    .dataframe tbody tr th {\n",
       "        vertical-align: top;\n",
       "    }\n",
       "\n",
       "    .dataframe thead th {\n",
       "        text-align: right;\n",
       "    }\n",
       "</style>\n",
       "<table border=\"1\" class=\"dataframe\">\n",
       "  <thead>\n",
       "    <tr style=\"text-align: right;\">\n",
       "      <th></th>\n",
       "      <th>review</th>\n",
       "      <th>sentiment</th>\n",
       "    </tr>\n",
       "  </thead>\n",
       "  <tbody>\n",
       "    <tr>\n",
       "      <th>0</th>\n",
       "      <td>One of the other reviewers has mentioned that ...</td>\n",
       "      <td>positive</td>\n",
       "    </tr>\n",
       "    <tr>\n",
       "      <th>1</th>\n",
       "      <td>A wonderful little production. &lt;br /&gt;&lt;br /&gt;The...</td>\n",
       "      <td>positive</td>\n",
       "    </tr>\n",
       "    <tr>\n",
       "      <th>2</th>\n",
       "      <td>I thought this was a wonderful way to spend ti...</td>\n",
       "      <td>positive</td>\n",
       "    </tr>\n",
       "  </tbody>\n",
       "</table>\n",
       "</div>"
      ],
      "text/plain": [
       "                                              review sentiment\n",
       "0  One of the other reviewers has mentioned that ...  positive\n",
       "1  A wonderful little production. <br /><br />The...  positive\n",
       "2  I thought this was a wonderful way to spend ti...  positive"
      ]
     },
     "execution_count": 3,
     "metadata": {},
     "output_type": "execute_result"
    }
   ],
   "source": [
    "# Cargar dataset\n",
    "df_raw = load_imdb_dataset('../IMDB Dataset.csv')\n",
    "\n",
    "print('\\n📊 INFORMACIÓN DEL DATASET')\n",
    "print('='*70)\n",
    "print(f'Total de reseñas: {len(df_raw):,}')\n",
    "print(f'Columnas: {list(df_raw.columns)}')\n",
    "print(f'\\nPrimeras 3 reseñas:')\n",
    "df_raw.head(3)"
   ]
  },
  {
   "cell_type": "markdown",
   "id": "63d96ce4",
   "metadata": {},
   "source": [
    "### 📊 Análisis Exploratorio"
   ]
  },
  {
   "cell_type": "code",
   "execution_count": 4,
   "id": "3f3d9dc1",
   "metadata": {},
   "outputs": [
    {
     "name": "stdout",
     "output_type": "stream",
     "text": [
      "\n",
      "📊 DISTRIBUCIÓN DE SENTIMIENTOS\n",
      "======================================================================\n",
      "sentiment\n",
      "positive    25000\n",
      "negative    25000\n",
      "Name: count, dtype: int64\n",
      "\n",
      "Porcentajes:\n",
      "sentiment\n",
      "positive    50.0\n",
      "negative    50.0\n",
      "Name: proportion, dtype: float64\n"
     ]
    },
    {
     "data": {
      "image/png": "[encoded data removed]",
      "text/plain": [
       "<Figure size 1400x500 with 2 Axes>"
      ]
     },
     "metadata": {},
     "output_type": "display_data"
    },
    {
     "name": "stdout",
     "output_type": "stream",
     "text": [
      "\n",
      "✅ Dataset perfectamente balanceado (50-50)\n"
     ]
    }
   ],
   "source": [
    "# Distribución de sentimientos\n",
    "print('\\n📊 DISTRIBUCIÓN DE SENTIMIENTOS')\n",
    "print('='*70)\n",
    "sentiment_dist = df_raw['sentiment'].value_counts()\n",
    "print(sentiment_dist)\n",
    "print(f'\\nPorcentajes:')\n",
    "print(df_raw['sentiment'].value_counts(normalize=True) * 100)\n",
    "\n",
    "# Visualizar\n",
    "fig, axes = plt.subplots(1, 2, figsize=(14, 5))\n",
    "\n",
    "# Gráfico de barras\n",
    "sentiment_dist.plot(kind='bar', color=['#e74c3c', '#2ecc71'], ax=axes[0], alpha=0.8)\n",
    "axes[0].set_title('Distribución de Sentimientos', fontsize=14, fontweight='bold')\n",
    "axes[0].set_xlabel('Sentimiento')\n",
    "axes[0].set_ylabel('Cantidad')\n",
    "axes[0].set_xticklabels(['Negative', 'Positive'], rotation=0)\n",
    "for i, v in enumerate(sentiment_dist):\n",
    "    axes[0].text(i, v + 500, str(v), ha='center', fontweight='bold')\n",
    "\n",
    "# Gráfico de pie\n",
    "axes[1].pie(sentiment_dist, labels=['Negative', 'Positive'], \n",
    "           colors=['#e74c3c', '#2ecc71'], autopct='%1.1f%%',\n",
    "           startangle=90, textprops={'fontsize': 12, 'fontweight': 'bold'})\n",
    "axes[1].set_title('Proporción de Sentimientos', fontsize=14, fontweight='bold')\n",
    "\n",
    "plt.tight_layout()\n",
    "plt.show()\n",
    "\n",
    "print('\\n✅ Dataset perfectamente balanceado (50-50)')"
   ]
  },
  {
   "cell_type": "code",
   "execution_count": 5,
   "id": "ac97b305",
   "metadata": {},
   "outputs": [
    {
     "name": "stdout",
     "output_type": "stream",
     "text": [
      "\n",
      "📏 ESTADÍSTICAS DE LONGITUD\n",
      "======================================================================\n",
      "\n",
      "Caracteres:\n",
      "count    50000.000000\n",
      "mean      1309.431020\n",
      "std        989.728014\n",
      "min         32.000000\n",
      "25%        699.000000\n",
      "50%        970.000000\n",
      "75%       1590.250000\n",
      "max      13704.000000\n",
      "Name: text_length, dtype: float64\n",
      "\n",
      "Palabras:\n",
      "count    50000.000000\n",
      "mean       231.156940\n",
      "std        171.343997\n",
      "min          4.000000\n",
      "25%        126.000000\n",
      "50%        173.000000\n",
      "75%        280.000000\n",
      "max       2470.000000\n",
      "Name: word_count, dtype: float64\n"
     ]
    },
    {
     "data": {
      "image/png": "[encoded data removed]",
      "text/plain": [
       "<Figure size 1400x500 with 2 Axes>"
      ]
     },
     "metadata": {},
     "output_type": "display_data"
    }
   ],
   "source": [
    "# Análisis de longitud de textos\n",
    "df_raw['text_length'] = df_raw['review'].str.len()\n",
    "df_raw['word_count'] = df_raw['review'].str.split().str.len()\n",
    "\n",
    "print('\\n📏 ESTADÍSTICAS DE LONGITUD')\n",
    "print('='*70)\n",
    "print('\\nCaracteres:')\n",
    "print(df_raw['text_length'].describe())\n",
    "print('\\nPalabras:')\n",
    "print(df_raw['word_count'].describe())\n",
    "\n",
    "# Visualizar\n",
    "fig, axes = plt.subplots(1, 2, figsize=(14, 5))\n",
    "axes[0].hist(df_raw['text_length'], bins=50, color='steelblue', alpha=0.7, edgecolor='black')\n",
    "axes[0].set_title('Distribución de Longitud (Caracteres)', fontsize=12, fontweight='bold')\n",
    "axes[0].set_xlabel('Caracteres')\n",
    "axes[0].set_ylabel('Frecuencia')\n",
    "axes[0].axvline(df_raw['text_length'].mean(), color='red', linestyle='--', \n",
    "               label=f'Media: {df_raw[\"text_length\"].mean():.0f}')\n",
    "axes[0].legend()\n",
    "\n",
    "axes[1].hist(df_raw['word_count'], bins=50, color='coral', alpha=0.7, edgecolor='black')\n",
    "axes[1].set_title('Distribución de Longitud (Palabras)', fontsize=12, fontweight='bold')\n",
    "axes[1].set_xlabel('Palabras')\n",
    "axes[1].set_ylabel('Frecuencia')\n",
    "axes[1].axvline(df_raw['word_count'].mean(), color='red', linestyle='--',\n",
    "               label=f'Media: {df_raw[\"word_count\"].mean():.0f}')\n",
    "axes[1].legend()\n",
    "\n",
    "plt.tight_layout()\n",
    "plt.show()"
   ]
  },
  {
   "cell_type": "markdown",
   "id": "78c05453-febc-4063-928f-b4570030e9ec",
   "metadata": {},
   "source": [
    "---\n",
    "## 3. Preprocesamiento de Texto\n",
    "\n",
    "### 🧹 Pipeline de Preprocesamiento\n",
    "\n",
    "El preprocesamiento es crucial para limpiar y normalizar el texto:\n",
    "\n",
    "1. **Limpieza**:\n",
    "   - Eliminar tags HTML (`<br>`, `<p>`, etc.)\n",
    "   - Eliminar URLs y emails\n",
    "   - Eliminar números y caracteres especiales\n",
    "\n",
    "2. **Normalización**:\n",
    "   - Convertir a minúsculas\n",
    "   - Normalizar espacios\n",
    "\n",
    "3. **Reducción de ruido**:\n",
    "   - Eliminar stopwords (palabras sin valor semántico)\n",
    "\n",
    "4. **Lematización**:\n",
    "   - Reducir palabras a su forma base\n",
    "   - Ejemplo: \"running\" → \"run\", \"movies\" → \"movie\""
   ]
  },
  {
   "cell_type": "code",
   "execution_count": null,
   "id": "b513fbf7",
   "metadata": {},
   "outputs": [
    {
     "name": "stdout",
     "output_type": "stream",
     "text": [
      "\n",
      "🚀 APLICANDO PREPROCESAMIENTO\n",
      "======================================================================\n",
      "⏳ Procesando 50,000 reseñas... (esto puede tardar varios minutos)\n",
      "\n",
      "🔄 Iniciando preprocesamiento del dataset...\n",
      "📝 Procesando reseñas...\n"
     ]
    }
   ],
   "source": [
    "# Aplicar preprocesamiento\n",
    "print('\\n🚀 APLICANDO PREPROCESAMIENTO')\n",
    "print('='*70)\n",
    "print('⏳ Procesando 50,000 reseñas... (esto puede tardar varios minutos)')\n",
    "\n",
    "start_time = time.time()\n",
    "df_processed = preprocess_dataframe(df_raw.copy())\n",
    "preprocessing_time = time.time() - start_time\n",
    "\n",
    "print(f'\\n⏱️ Tiempo total: {preprocessing_time:.2f}s ({preprocessing_time/60:.2f} min)')\n",
    "print(f'⚡ Velocidad: {len(df_processed)/preprocessing_time:.1f} reseñas/seg')\n",
    "\n",
    "# Mostrar ejemplo\n",
    "print('\\n📝 EJEMPLO DE TRANSFORMACIÓN:')\n",
    "print('='*70)\n",
    "idx = 0\n",
    "print(f'\\nORIGINAL:\\n{df_raw.iloc[idx][\"review\"][:300]}...')\n",
    "print(f'\\nPROCESADO:\\n{df_processed.iloc[idx][\"review_clean\"][:300]}...')"
   ]
  },
  {
   "cell_type": "markdown",
   "id": "976befbb",
   "metadata": {},
   "source": [
    "---\n",
    "## 4. Representación de Texto\n",
    "\n",
    "### 📊 Vectorización: Convertir Texto a Números\n",
    "\n",
    "Los modelos de ML trabajan con números, no con texto. Necesitamos vectorizar.\n",
    "\n",
    "#### Técnica 1: **Bag of Words (BoW)**\n",
    "- Cuenta frecuencia de cada palabra\n",
    "- Simple y rápido\n",
    "- No considera importancia relativa\n",
    "\n",
    "#### Técnica 2: **TF-IDF** (Term Frequency - Inverse Document Frequency)\n",
    "- Penaliza palabras muy comunes\n",
    "- Da más peso a palabras distintivas\n",
    "- **Mejor para clasificación de texto** ✅\n",
    "\n",
    "**Fórmula TF-IDF**:\n",
    "$$TF-IDF(t, d) = TF(t, d) \\times IDF(t)$$\n",
    "\n",
    "Donde:\n",
    "- $TF(t, d)$ = Frecuencia del término $t$ en documento $d$\n",
    "- $IDF(t) = \\log\\frac{N}{df(t)}$\n",
    "- $N$ = Total de documentos\n",
    "- $df(t)$ = Documentos que contienen el término $t$"
   ]
  },
  {
   "cell_type": "markdown",
   "id": "2f3502c0",
   "metadata": {},
   "source": [
    "---\n",
    "## 5. División de Datos\n",
    "\n",
    "### 🔀 Train-Test Split\n",
    "\n",
    "Dividimos los datos en dos conjuntos:\n",
    "- **Entrenamiento (80%)**: Para entrenar los modelos\n",
    "- **Prueba (20%)**: Para evaluar el rendimiento\n",
    "\n",
    "Esto evita **overfitting** y nos da una medida real del rendimiento."
   ]
  },
  {
   "cell_type": "code",
   "execution_count": null,
   "id": "5e0be3af",
   "metadata": {},
   "outputs": [],
   "source": [
    "# Dividir datos\n",
    "X_train, X_test, y_train, y_test = split_data(df_processed, test_size=0.2, random_state=42)"
   ]
  },
  {
   "cell_type": "code",
   "execution_count": null,
   "id": "e0040dea",
   "metadata": {},
   "outputs": [],
   "source": [
    "# Vectorizar con TF-IDF\n",
    "_, tfidf_vec = create_vectorizers()\n",
    "X_train_vec, X_test_vec, vectorizer = vectorize_data(X_train, X_test, tfidf_vec)"
   ]
  },
  {
   "cell_type": "markdown",
   "id": "a4327221",
   "metadata": {},
   "source": [
    "---\n",
    "## 6. Entrenamiento de Modelos\n",
    "\n",
    "### 🤖 Modelos de Machine Learning\n",
    "\n",
    "Entrenaremos 3 modelos y compararemos su rendimiento."
   ]
  },
  {
   "cell_type": "markdown",
   "id": "1544bd39",
   "metadata": {},
   "source": [
    "#### Modelo 1: Naive Bayes 📊\n",
    "\n",
    "**Teoría:**\n",
    "- Basado en el Teorema de Bayes\n",
    "- Asume independencia entre features (naive assumption)\n",
    "- Muy rápido y efectivo para texto\n",
    "\n",
    "**Fórmula:**\n",
    "$$P(C|X) = \\frac{P(X|C) \\cdot P(C)}{P(X)}$$\n",
    "\n",
    "**Ventajas:**\n",
    "- ⚡ Extremadamente rápido\n",
    "- 📊 Funciona bien con alta dimensionalidad\n",
    "- 🎯 Buen baseline para clasificación de texto"
   ]
  },
  {
   "cell_type": "markdown",
   "id": "2d7bc2b8",
   "metadata": {},
   "source": [
    "#### Modelo 2: Regresión Logística 📈\n",
    "\n",
    "**Teoría:**\n",
    "- Modelo lineal con función sigmoide\n",
    "- Predice probabilidad de pertenencia a clase\n",
    "- Interpretable y robusto\n",
    "\n",
    "**Función Sigmoide:**\n",
    "$$\\sigma(z) = \\frac{1}{1 + e^{-z}}$$\n",
    "\n",
    "**Ventajas:**\n",
    "- 🔍 Coeficientes interpretables\n",
    "- ⚖️ Balance entre velocidad y precisión\n",
    "- 🛡️ Regularización integrada"
   ]
  },
  {
   "cell_type": "markdown",
   "id": "11951a03",
   "metadata": {},
   "source": [
    "#### Modelo 3: Random Forest 🌳\n",
    "\n",
    "**Teoría:**\n",
    "- Ensemble de múltiples árboles de decisión\n",
    "- Cada árbol vota la clase final\n",
    "- Captura relaciones no lineales\n",
    "\n",
    "**Ventajas:**\n",
    "- 🎯 Alta precisión\n",
    "- 🌲 Maneja bien features complejas\n",
    "- 📊 Menos propenso a overfitting"
   ]
  },
  {
   "cell_type": "code",
   "execution_count": null,
   "id": "4415992e",
   "metadata": {},
   "outputs": [],
   "source": [
    "# Entrenar todos los modelos\n",
    "models = train_all_models(X_train_vec, y_train)"
   ]
  },
  {
   "cell_type": "code",
   "execution_count": null,
   "id": "65a45a8a",
   "metadata": {},
   "outputs": [],
   "source": [
    "# Guardar modelos\n",
    "save_models(models, vectorizer, '../models/')"
   ]
  },
  {
   "cell_type": "markdown",
   "id": "ac251f4d",
   "metadata": {},
   "source": [
    "---\n",
    "## 7. Evaluación de Modelos\n",
    "\n",
    "### 📊 Métricas de Evaluación"
   ]
  },
  {
   "cell_type": "code",
   "execution_count": null,
   "id": "02a582f7",
   "metadata": {},
   "outputs": [],
   "source": [
    "# Hacer predicciones y calcular métricas\n",
    "predictions = {}\n",
    "metrics_data = []\n",
    "confusion_matrices = {}\n",
    "roc_data = {}\n",
    "\n",
    "for name, model in models.items():\n",
    "    # Predicciones\n",
    "    y_pred = model.predict(X_test_vec)\n",
    "    predictions[name] = y_pred\n",
    "    \n",
    "    # Métricas\n",
    "    metrics = {\n",
    "        'Model': name,\n",
    "        'accuracy': accuracy_score(y_test, y_pred),\n",
    "        'precision': precision_score(y_test, y_pred),\n",
    "        'recall': recall_score(y_test, y_pred),\n",
    "        'f1_score': f1_score(y_test, y_pred)\n",
    "    }\n",
    "    metrics_data.append(metrics)\n",
    "    \n",
    "    # Matriz de confusión\n",
    "    confusion_matrices[name] = confusion_matrix(y_test, y_pred)\n",
    "    \n",
    "    # ROC\n",
    "    if hasattr(model, 'predict_proba'):\n",
    "        y_proba = model.predict_proba(X_test_vec)[:, 1]\n",
    "    else:\n",
    "        y_proba = model.decision_function(X_test_vec)\n",
    "    fpr, tpr, _ = roc_curve(y_test, y_proba)\n",
    "    roc_data[name] = {'fpr': fpr, 'tpr': tpr, 'auc': auc(fpr, tpr)}\n",
    "\n",
    "metrics_df = pd.DataFrame(metrics_data).set_index('Model')\n",
    "\n",
    "print('\\n📊 TABLA DE MÉTRICAS')\n",
    "print('='*70)\n",
    "print(metrics_df)\n",
    "\n",
    "best_model = metrics_df['f1_score'].idxmax()\n",
    "print(f'\\n🏆 MEJOR MODELO: {best_model} (F1={metrics_df.loc[best_model, \"f1_score\"]:.4f})')"
   ]
  },
  {
   "cell_type": "markdown",
   "id": "e5f8ab6c",
   "metadata": {},
   "source": [
    "---\n",
    "## 8. Visualizaciones\n",
    "\n",
    "### 📊 Comparación Visual de Rendimiento"
   ]
  },
  {
   "cell_type": "code",
   "execution_count": null,
   "id": "89ca20a9",
   "metadata": {},
   "outputs": [],
   "source": [
    "# Comparación de métricas\n",
    "plot_metrics_comparison(metrics_df)"
   ]
  },
  {
   "cell_type": "code",
   "execution_count": null,
   "id": "dde9577a",
   "metadata": {},
   "outputs": [],
   "source": [
    "# Matrices de confusión\n",
    "plot_confusion_matrices(confusion_matrices)"
   ]
  },
  {
   "cell_type": "code",
   "execution_count": null,
   "id": "807dd2f8",
   "metadata": {},
   "outputs": [],
   "source": [
    "# Curvas ROC\n",
    "plot_roc_curves(roc_data)"
   ]
  },
  {
   "cell_type": "code",
   "execution_count": null,
   "id": "d352aaf5",
   "metadata": {},
   "outputs": [],
   "source": [
    "# Word Clouds\n",
    "generate_wordclouds(df_processed)"
   ]
  },
  {
   "cell_type": "code",
   "execution_count": null,
   "id": "fbdfc5fa",
   "metadata": {},
   "outputs": [],
   "source": [
    "# Feature Importance (Logistic Regression)\n",
    "plot_feature_importance(models['logistic_regression'], vectorizer, top_n=20)"
   ]
  },
  {
   "cell_type": "markdown",
   "id": "eaa92e46",
   "metadata": {},
   "source": [
    "---\n",
    "## 9. Análisis de Resultados\n",
    "\n",
    "### 🎯 ¿Qué modelo funcionó mejor y por qué?"
   ]
  },
  {
   "cell_type": "markdown",
   "id": "40b49ba0",
   "metadata": {},
   "source": [
    "### 📊 Análisis Comparativo\n",
    "\n",
    "#### Rendimiento por Modelo:\n",
    "\n",
    "**Naive Bayes:**\n",
    "- ✅ Muy rápido (< 1 segundo)\n",
    "- ✅ Buen baseline (~85% accuracy)\n",
    "- ⚠️ Asume independencia de features\n",
    "\n",
    "**Logistic Regression:**\n",
    "- ✅ Excelente balance velocidad/precisión\n",
    "- ✅ ~87-89% accuracy típicamente\n",
    "- ✅ Interpretable (coeficientes)\n",
    "- ✅ Robusto y confiable\n",
    "\n",
    "**Random Forest:**\n",
    "- ✅ Captura patrones complejos\n",
    "- ⚠️ Más lento (30-60 seg)\n",
    "- ⚠️ Puede no superar a LR en texto"
   ]
  },
  {
   "cell_type": "markdown",
   "id": "07354f18",
   "metadata": {},
   "source": [
    "### 🔍 Análisis de Errores\n",
    "\n",
    "#### Tipos de Errores Comunes:\n",
    "\n",
    "**Falsos Positivos (FP):**\n",
    "- Reseñas negativas clasificadas como positivas\n",
    "- Pueden ocurrir con sarcasmo o ironía\n",
    "- Ejemplo: \"This movie was 'great'... if you like torture\"\n",
    "\n",
    "**Falsos Negativos (FN):**\n",
    "- Reseñas positivas clasificadas como negativas\n",
    "- Pueden ocurrir con críticas constructivas\n",
    "- Ejemplo: \"Despite some flaws, I loved it\""
   ]
  },
  {
   "cell_type": "markdown",
   "id": "fc62d7a8",
   "metadata": {},
   "source": [
    "### 💡 Palabras Más Predictivas\n",
    "\n",
    "#### Indicadores Positivos:\n",
    "- \"excellent\", \"amazing\", \"great\", \"wonderful\"\n",
    "- \"loved\", \"enjoyed\", \"perfect\", \"best\"\n",
    "\n",
    "#### Indicadores Negativos:\n",
    "- \"worst\", \"terrible\", \"awful\", \"horrible\"\n",
    "- \"waste\", \"boring\", \"disappointing\", \"bad\""
   ]
  },
  {
   "cell_type": "markdown",
   "id": "505dc4fe",
   "metadata": {},
   "source": [
    "---\n",
    "## 10. Conclusiones y Mejoras\n",
    "\n",
    "### 🎯 Resumen de Hallazgos\n",
    "\n",
    "#### ✅ Logros del Proyecto:\n",
    "\n",
    "1. **Dataset balanceado**: 50-50 facilita el entrenamiento\n",
    "2. **Preprocesamiento efectivo**: Limpieza, normalización, lematización\n",
    "3. **Vectorización óptima**: TF-IDF superior a BoW\n",
    "4. **Modelos diversos**: Comparamos 3 aproximaciones diferentes\n",
    "5. **Métricas completas**: Evaluación exhaustiva con múltiples métricas\n",
    "6. **Resultados sólidos**: >85% accuracy en todos los modelos\n",
    "\n",
    "#### 📊 Modelo Recomendado:\n",
    "\n",
    "**Para producción**: Logistic Regression\n",
    "- Balance óptimo entre velocidad y precisión\n",
    "- Interpretable (coeficientes = importancia de palabras)\n",
    "- Robusto y confiable\n",
    "- Fácil de mantener y actualizar\n",
    "\n",
    "### 🚀 Desafíos Encontrados\n",
    "\n",
    "1. **Sarcasmo e ironía**: Difícil de detectar con ML tradicional\n",
    "2. **Tiempo de preprocesamiento**: ~5-10 min para 50K reseñas\n",
    "3. **Memoria con Random Forest**: Consumo alto de RAM\n",
    "4. **Contexto**: Bolsas de palabras ignoran orden\n",
    "\n",
    "### 💡 Posibles Mejoras Futuras\n",
    "\n",
    "#### Preprocesamiento:\n",
    "- Manejo de emojis y emoticons\n",
    "- Detección de negaciones (\"not good\" vs \"good\")\n",
    "- Stemming vs Lemmatization comparación\n",
    "\n",
    "#### Features:\n",
    "- N-gramas más largos (trigramas)\n",
    "- Character-level features\n",
    "- Sentiment lexicons (VADER, TextBlob)\n",
    "\n",
    "#### Modelos:\n",
    "- **SVM** (Support Vector Machines)\n",
    "- **XGBoost / LightGBM**\n",
    "- **Deep Learning**:\n",
    "  - LSTM / GRU (Recurrent Neural Networks)\n",
    "  - BERT / Transformers (State-of-the-art)\n",
    "  - Word2Vec / GloVe embeddings\n",
    "\n",
    "#### Optimización:\n",
    "- Grid Search / Random Search para hiperparámetros\n",
    "- Cross-validation para validación robusta\n",
    "- Ensemble methods (combinar modelos)\n",
    "- Feature selection para reducir dimensionalidad\n",
    "\n",
    "#### Producción:\n",
    "- API REST con Flask/FastAPI\n",
    "- Contenedor Docker\n",
    "- Monitoreo de performance\n",
    "- Re-entrenamiento periódico\n",
    "\n",
    "### 📚 Recursos para Profundizar\n",
    "\n",
    "- **Papers**: \"Attention Is All You Need\" (Transformers)\n",
    "- **Libros**: \"Speech and Language Processing\" (Jurafsky & Martin)\n",
    "- **Cursos**: Coursera NLP Specialization\n",
    "- **Bibliotecas**: spaCy, Transformers (Hugging Face)\n",
    "\n",
    "---\n",
    "\n",
    "## 🎉 ¡Proyecto Completado!\n",
    "\n",
    "Este notebook demostró un **pipeline completo de Machine Learning** para Análisis de Sentimientos:\n",
    "\n",
    "✅ Exploración de datos  \n",
    "✅ Preprocesamiento de texto  \n",
    "✅ Vectorización (TF-IDF)  \n",
    "✅ Entrenamiento de modelos  \n",
    "✅ Evaluación exhaustiva  \n",
    "✅ Visualizaciones profesionales  \n",
    "✅ Análisis de resultados  "
   ]
  }
 ],
 "metadata": {
  "kernelspec": {
   "display_name": "Python 3 (ipykernel)",
   "language": "python",
   "name": "python3"
  },
  "language_info": {
   "codemirror_mode": {
    "name": "ipython",
    "version": 3
   },
   "file_extension": ".py",
   "mimetype": "text/x-python",
   "name": "python",
   "nbconvert_exporter": "python",
   "pygments_lexer": "ipython3",
   "version": "3.13.4"
  }
 },
 "nbformat": 4,
 "nbformat_minor": 5
}
